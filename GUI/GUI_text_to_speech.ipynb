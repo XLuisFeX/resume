{
 "cells": [
  {
   "cell_type": "markdown",
   "metadata": {},
   "source": [
    "# GUI Text to Speech"
   ]
  },
  {
   "cell_type": "code",
   "execution_count": 1,
   "metadata": {},
   "outputs": [],
   "source": [
    "# Import modules\n",
    "from gtts import gTTS \n",
    "import vlc\n",
    "import tkinter\n",
    "\n",
    "\n",
    "#Define window properties\n",
    "window = tkinter.Tk()\n",
    "window.title(\"Text to Speech converter\")\n",
    "window.geometry(\"800x500\")\n",
    "\n",
    "\n",
    "#Text entry\n",
    "textBox = tkinter.Entry(window)\n",
    "textBox.pack()\n",
    "\n",
    "\n",
    "#Speech method\n",
    "def speech():\n",
    "    \n",
    "    #Get text from textbox\n",
    "    mytext = textBox.get()\n",
    "    # Pass the text to the gtts module\n",
    "    obj = gTTS(text=mytext, lang='en', slow=False) \n",
    "\n",
    "    #Save the audio file \n",
    "    obj.save(\"text_to_speech_test.mp3\") \n",
    "\n",
    "    # Play the audio file\n",
    "    p = vlc.MediaPlayer(\"text_to_speech_test.mp3\")\n",
    "    p.play()\n",
    "\n",
    "#Button execute speech method\n",
    "boton1 = tkinter.Button(window, text = \"Speech\", command = speech)\n",
    "boton1.pack()\n",
    "\n",
    "\n",
    "    \n",
    "window.mainloop()"
   ]
  },
  {
   "cell_type": "code",
   "execution_count": null,
   "metadata": {},
   "outputs": [],
   "source": []
  }
 ],
 "metadata": {
  "kernelspec": {
   "display_name": "Python 3",
   "language": "python",
   "name": "python3"
  },
  "language_info": {
   "codemirror_mode": {
    "name": "ipython",
    "version": 3
   },
   "file_extension": ".py",
   "mimetype": "text/x-python",
   "name": "python",
   "nbconvert_exporter": "python",
   "pygments_lexer": "ipython3",
   "version": "3.7.4"
  }
 },
 "nbformat": 4,
 "nbformat_minor": 4
}
