{
 "cells": [
  {
   "cell_type": "markdown",
   "metadata": {},
   "source": [
    "# Speech to Youtube search"
   ]
  },
  {
   "cell_type": "code",
   "execution_count": null,
   "metadata": {},
   "outputs": [],
   "source": [
    "import speech_recognition as sr\n",
    "import webbrowser as wb\n",
    "\n",
    "r = sr.Recognizer()\n",
    "\n",
    "url = \"https://www.youtube.com/results?search_query=\"\n",
    "with sr.Microphone() as source:\n",
    "    print(\"Which video do you want to search on youtube?\")\n",
    "    audio = r.listen(source, timeout = 5)\n",
    "\n",
    "    try:\n",
    "        get = r.recognize_google(audio, language = \"en-US\")\n",
    "        print(\"You said:\")\n",
    "        print(get)\n",
    "        wb.get().open_new(url+get)\n",
    "    except sr.UnknownValueError:\n",
    "        print(\"error\")\n",
    "    except sr.RequestError as e:\n",
    "        print(\"failed\".format(e))"
   ]
  }
 ],
 "metadata": {
  "kernelspec": {
   "display_name": "Python 3",
   "language": "python",
   "name": "python3"
  },
  "language_info": {
   "codemirror_mode": {
    "name": "ipython",
    "version": 3
   },
   "file_extension": ".py",
   "mimetype": "text/x-python",
   "name": "python",
   "nbconvert_exporter": "python",
   "pygments_lexer": "ipython3",
   "version": "3.7.4"
  }
 },
 "nbformat": 4,
 "nbformat_minor": 4
}
