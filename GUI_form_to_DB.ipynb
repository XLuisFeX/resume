{
 "cells": [
  {
   "cell_type": "markdown",
   "metadata": {},
   "source": [
    "# GUI FORM to DBA connection"
   ]
  },
  {
   "cell_type": "code",
   "execution_count": 7,
   "metadata": {},
   "outputs": [],
   "source": [
    "import tkinter as tk\n",
    "import psycopg2\n",
    "from tkinter import ttk\n",
    "from tkinter import messagebox as mb\n",
    "from tkinter import scrolledtext as st\n",
    "\n",
    "class ItemsForm:\n",
    "    \n",
    "    def __init__(self):\n",
    "        self.window=tk.Tk()\n",
    "        self.window.title(\"GUI Items to DB connection\")\n",
    "        self.book1 = ttk.Notebook(self.window)        \n",
    "        self.load_items()\n",
    "        self.complete_list()\n",
    "        self.book1.grid(column=0, row=0, padx=10, pady=10)\n",
    "        self.window.mainloop()\n",
    "\n",
    "    def load_items(self):\n",
    "        self.page1 = ttk.Frame(self.book1)\n",
    "        self.book1.add(self.page1, text=\"Upload Items to DB\")\n",
    "        self.labelframe1=ttk.LabelFrame(self.page1, text=\"\")        \n",
    "        self.labelframe1.grid(column=0, row=0, padx=5, pady=10)\n",
    "        self.label1=ttk.Label(self.labelframe1, text=\"Description:\")\n",
    "        self.label1.grid(column=0, row=0, padx=4, pady=4)\n",
    "        self.loaddescription=tk.StringVar()\n",
    "        self.entrydescription=ttk.Entry(self.labelframe1, textvariable=self.loaddescription)\n",
    "        self.entrydescription.grid(column=1, row=0, padx=4, pady=4)\n",
    "        self.label2=ttk.Label(self.labelframe1, text=\"Price:\")        \n",
    "        self.label2.grid(column=0, row=1, padx=4, pady=4)\n",
    "        self.loadprice=tk.StringVar()\n",
    "        self.entryprecio=ttk.Entry(self.labelframe1, textvariable=self.loadprice)\n",
    "        self.entryprecio.grid(column=1, row=1, padx=4, pady=4)\n",
    "        self.button1=ttk.Button(self.labelframe1, text=\"Confirm\", command=self.insert)\n",
    "        self.button1.grid(column=1, row=2, padx=4, pady=4)\n",
    "\n",
    "\n",
    "    def complete_list(self):\n",
    "        self.page2 = ttk.Frame(self.book1)\n",
    "        self.book1.add(self.page2, text=\"Items list in DB\")\n",
    "        self.labelframe1=ttk.LabelFrame(self.page2, text=\"\")\n",
    "        self.labelframe1.grid(column=0, row=0, padx=5, pady=10)\n",
    "        self.button1=ttk.Button(self.labelframe1, text=\"Complete list\", command=self.show_complete_list)\n",
    "        self.button1.grid(column=0, row=0, padx=4, pady=4)\n",
    "        self.scrolledtext1=st.ScrolledText(self.labelframe1, width=30, height=10)\n",
    "        self.scrolledtext1.grid(column=0,row=1, padx=10, pady=10)\n",
    "        \n",
    "    def insert(self):\n",
    "        cone = psycopg2.connect(\"dbname=bd1 user=postgres host=localhost password=luisfesql port=5432\")\n",
    "        cursor = cone.cursor()\n",
    "        data=[self.loaddescription.get(), self.loadprice.get()]\n",
    "        sql=\"insert into articulos(descripcion, precio) values (\" + \"'\" + data[0] + \"'\" + \",\" + \"'\" + data[1] + \"'\" + \")\"\n",
    "        cursor.execute(sql)\n",
    "        cone.commit()\n",
    "        mb.showinfo(\"INFORMATION\", \"Item uploaded to DB\")\n",
    "\n",
    "        \n",
    "    def show_complete_list(self):\n",
    "        cone = psycopg2.connect(\"dbname=bd1 user=postgres host=localhost password=luisfesql port=5432\")\n",
    "        cursor = cone.cursor()\n",
    "        sql = \"Select * from articulos\"\n",
    "        cursor.execute(sql)\n",
    "        data = cursor.fetchall()\n",
    "        for item in range(0,len(data)):\n",
    "            row=data[item]\n",
    "            self.scrolledtext1.insert(tk.END, \"code:\"+str(row[0])+\"\\ndescription:\"+row[1]+\"\\nprice:\"+str(row[2])+\"\\n\\n\")\n",
    "                               \n",
    "app=ItemsForm()"
   ]
  },
  {
   "cell_type": "code",
   "execution_count": null,
   "metadata": {},
   "outputs": [],
   "source": []
  }
 ],
 "metadata": {
  "kernelspec": {
   "display_name": "Python 3",
   "language": "python",
   "name": "python3"
  },
  "language_info": {
   "codemirror_mode": {
    "name": "ipython",
    "version": 3
   },
   "file_extension": ".py",
   "mimetype": "text/x-python",
   "name": "python",
   "nbconvert_exporter": "python",
   "pygments_lexer": "ipython3",
   "version": "3.7.4"
  }
 },
 "nbformat": 4,
 "nbformat_minor": 4
}
