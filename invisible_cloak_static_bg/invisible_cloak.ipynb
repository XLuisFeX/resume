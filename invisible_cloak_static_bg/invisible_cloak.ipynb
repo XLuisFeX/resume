{
 "cells": [
  {
   "cell_type": "markdown",
   "id": "92383972",
   "metadata": {},
   "source": [
    "# Invisible cloak - Static BG"
   ]
  },
  {
   "cell_type": "code",
   "execution_count": 1,
   "id": "5916e9a4",
   "metadata": {},
   "outputs": [],
   "source": [
    "#Import modules\n",
    "import cv2\n",
    "import numpy as np"
   ]
  },
  {
   "cell_type": "code",
   "execution_count": 2,
   "id": "d97014cc",
   "metadata": {},
   "outputs": [],
   "source": [
    "#Def make invisible function, this function recive webcam frame, background image and color ranges to remove\n",
    "def make_invisible(frame,background):\n",
    "    \n",
    "    #Change frame from BGR to HSV colorspace\n",
    "    hsv_frame = cv2.cvtColor(frame, cv2.COLOR_BGR2HSV)\n",
    "    \n",
    "    #Get parameters from Trackbars\n",
    "    l_h = cv2.getTrackbarPos(\"L_H\",\"Parameters\")\n",
    "    l_s = cv2.getTrackbarPos(\"L_S\",\"Parameters\")\n",
    "    l_v = cv2.getTrackbarPos(\"L_V\",\"Parameters\")\n",
    "    u_h = cv2.getTrackbarPos(\"U_H\",\"Parameters\")\n",
    "    u_s = cv2.getTrackbarPos(\"U_S\",\"Parameters\")\n",
    "    u_v = cv2.getTrackbarPos(\"U_V\",\"Parameters\")\n",
    "    \n",
    "    #Create numpay array for lower and upper colors in HSV colorspace\n",
    "    l_hsv = np.array([l_h, l_s, l_v])\n",
    "    u_hsv = np.array([u_h, u_s, u_v])\n",
    "\n",
    "    #Detect area where color range is present in webcam frame\n",
    "    mask = cv2.inRange(hsv_frame, l_hsv, u_hsv)\n",
    "\n",
    "    #Using mask to select background portions to keep\n",
    "    part1 = cv2.bitwise_and(background, background, mask=mask)\n",
    "\n",
    "    #Detect area where color range is NOT present in webcam frame\n",
    "    color_free = cv2.bitwise_not(mask)\n",
    "\n",
    "    #Using color_free mask to select webcam frame portions to keep\n",
    "    part2 = cv2.bitwise_and(frame, frame, mask=color_free)\n",
    "    \n",
    "    #Join the portions we want to keep\n",
    "    output_frame = part1+part2\n",
    "    \n",
    "    return output_frame"
   ]
  },
  {
   "cell_type": "code",
   "execution_count": 3,
   "id": "0b7f6546",
   "metadata": {},
   "outputs": [],
   "source": [
    "#Set videocapture from webcam\n",
    "cap = cv2.VideoCapture(0)\n",
    "\n",
    "#Get background frame\n",
    "for i in range(30):\n",
    "    ret,back = cap.read()\n",
    "\n",
    "#Def empty function for trackbars\n",
    "def empty(a):\n",
    "    pass\n",
    "\n",
    "#Def trackbars window to set parameters\n",
    "cv2.namedWindow(\"Parameters\")\n",
    "cv2.resizeWindow(\"Parameters\",700,250)\n",
    "cv2.createTrackbar(\"L_H\",\"Parameters\",65,179,empty)\n",
    "cv2.createTrackbar(\"L_S\",\"Parameters\",128,255,empty)\n",
    "cv2.createTrackbar(\"L_V\",\"Parameters\",143,255,empty)\n",
    "cv2.createTrackbar(\"U_H\",\"Parameters\",255,179,empty)\n",
    "cv2.createTrackbar(\"U_S\",\"Parameters\",255,255,empty)\n",
    "cv2.createTrackbar(\"U_V\",\"Parameters\",255,255,empty)\n",
    "\n",
    "\n",
    "#Run code until 'q' key is pressed\n",
    "while cap.isOpened():\n",
    "    \n",
    "    #read webcam frame\n",
    "    ret,frame = cap.read()\n",
    "    \n",
    "    #Apply make_invisible function\n",
    "    output_img = make_invisible(frame,back)\n",
    "    \n",
    "    #Display result\n",
    "    cv2.imshow(\"Final\",output_img)\n",
    "    \n",
    "    #Stop if 'q' key is pressed\n",
    "    if cv2.waitKey(1) & 0xFF == ord('q'):\n",
    "        cv2.destroyAllWindows() \n",
    "        cap.release()\n",
    "        break"
   ]
  },
  {
   "cell_type": "code",
   "execution_count": null,
   "id": "09951ef9",
   "metadata": {},
   "outputs": [],
   "source": []
  },
  {
   "cell_type": "code",
   "execution_count": null,
   "id": "5bae1c8e",
   "metadata": {},
   "outputs": [],
   "source": []
  }
 ],
 "metadata": {
  "kernelspec": {
   "display_name": "Python 3 (ipykernel)",
   "language": "python",
   "name": "python3"
  },
  "language_info": {
   "codemirror_mode": {
    "name": "ipython",
    "version": 3
   },
   "file_extension": ".py",
   "mimetype": "text/x-python",
   "name": "python",
   "nbconvert_exporter": "python",
   "pygments_lexer": "ipython3",
   "version": "3.9.7"
  }
 },
 "nbformat": 4,
 "nbformat_minor": 5
}
