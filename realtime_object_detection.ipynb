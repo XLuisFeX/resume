{
 "cells": [
  {
   "cell_type": "markdown",
   "metadata": {},
   "source": [
    "# Real-time object detection using OpenCV"
   ]
  },
  {
   "cell_type": "code",
   "execution_count": null,
   "metadata": {},
   "outputs": [],
   "source": [
    "import cv2\n",
    "import cvlib as cv\n",
    "from cvlib.object_detection import draw_bbox\n",
    "\n",
    "# Select the webcam as source\n",
    "cap = cv2.VideoCapture(0)\n",
    "\n",
    "# Set the dimensions of the window\n",
    "cap.set(cv2.CAP_PROP_FRAME_WIDTH, 30)\n",
    "cap.set(cv2.CAP_PROP_FRAME_HEIGHT, 30)\n",
    "\n",
    "# Loop to catch and process each frame\n",
    "while (True):\n",
    "    # Capture frame\n",
    "    ret, frame = cap.read()\n",
    "\n",
    "    # Object detection in the frame\n",
    "    bbox, label, conf = cv.detect_common_objects(frame)\n",
    "    output_image = draw_bbox(frame, bbox, label, conf)\n",
    "\n",
    "    # Display the resulting frame\n",
    "    cv2.imshow('frame', output_image)\n",
    "    if cv2.waitKey(1) & 0xFF == ord('q'):\n",
    "        break\n",
    "\n",
    "# When everything done, release the capture\n",
    "cap.release()\n",
    "cv2.destroyAllWindows()"
   ]
  }
 ],
 "metadata": {
  "kernelspec": {
   "display_name": "Python 3",
   "language": "python",
   "name": "python3"
  },
  "language_info": {
   "codemirror_mode": {
    "name": "ipython",
    "version": 3
   },
   "file_extension": ".py",
   "mimetype": "text/x-python",
   "name": "python",
   "nbconvert_exporter": "python",
   "pygments_lexer": "ipython3",
   "version": "3.7.4"
  }
 },
 "nbformat": 4,
 "nbformat_minor": 4
}
