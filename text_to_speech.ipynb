{
 "cells": [
  {
   "cell_type": "markdown",
   "metadata": {},
   "source": [
    "# Text to Speech"
   ]
  },
  {
   "cell_type": "code",
   "execution_count": 1,
   "metadata": {},
   "outputs": [
    {
     "data": {
      "text/plain": [
       "0"
      ]
     },
     "execution_count": 1,
     "metadata": {},
     "output_type": "execute_result"
    }
   ],
   "source": [
    "# Import modules\n",
    "from gtts import gTTS \n",
    "import vlc\n",
    "  \n",
    "# Define text\n",
    "mytext = 'Hello, this is my first text to speech converter. I\\'m so excited'\n",
    "  \n",
    "# Define Language\n",
    "language = 'en'\n",
    "  \n",
    "# Pass the text to the gtts module\n",
    "obj = gTTS(text=mytext, lang=language, slow=False) \n",
    "  \n",
    "#Save the audio file \n",
    "obj.save(\"text_to_speech_test.mp3\") \n",
    "  \n",
    "# Play the audio file\n",
    "p = vlc.MediaPlayer(\"text_to_speech_test.mp3\")\n",
    "p.play()"
   ]
  },
  {
   "cell_type": "code",
   "execution_count": null,
   "metadata": {},
   "outputs": [],
   "source": []
  }
 ],
 "metadata": {
  "kernelspec": {
   "display_name": "Python 3",
   "language": "python",
   "name": "python3"
  },
  "language_info": {
   "codemirror_mode": {
    "name": "ipython",
    "version": 3
   },
   "file_extension": ".py",
   "mimetype": "text/x-python",
   "name": "python",
   "nbconvert_exporter": "python",
   "pygments_lexer": "ipython3",
   "version": "3.7.4"
  }
 },
 "nbformat": 4,
 "nbformat_minor": 4
}
